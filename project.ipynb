{
 "cells": [
  {
   "cell_type": "code",
   "execution_count": 4,
   "metadata": {},
   "outputs": [],
   "source": [
    "import pandas as pd\n",
    "import numpy as np"
   ]
  },
  {
   "cell_type": "code",
   "execution_count": 5,
   "outputs": [],
   "source": [
    "df = pd.read_excel('utilities/galactose_in_food.xlsx', index_col=0)"
   ],
   "metadata": {
    "collapsed": false,
    "pycharm": {
     "name": "#%%\n"
    }
   }
  },
  {
   "cell_type": "code",
   "execution_count": 7,
   "outputs": [
    {
     "data": {
      "text/plain": "                           Species  Content  Precision\nFood                                                  \nApple        Malus domestica Borkh      8.3        0.7\nApricot        Prunus armeniaca L.      1.1        0.6\nArtichoke       Cynara scolymus L.      NaN        NaN\nAsparagus  Asparagus officinalis L      1.2        0.6\nAvocado      Persea americana Mill      0.5        NaN",
      "text/html": "<div>\n<style scoped>\n    .dataframe tbody tr th:only-of-type {\n        vertical-align: middle;\n    }\n\n    .dataframe tbody tr th {\n        vertical-align: top;\n    }\n\n    .dataframe thead th {\n        text-align: right;\n    }\n</style>\n<table border=\"1\" class=\"dataframe\">\n  <thead>\n    <tr style=\"text-align: right;\">\n      <th></th>\n      <th>Species</th>\n      <th>Content</th>\n      <th>Precision</th>\n    </tr>\n    <tr>\n      <th>Food</th>\n      <th></th>\n      <th></th>\n      <th></th>\n    </tr>\n  </thead>\n  <tbody>\n    <tr>\n      <th>Apple</th>\n      <td>Malus domestica Borkh</td>\n      <td>8.3</td>\n      <td>0.7</td>\n    </tr>\n    <tr>\n      <th>Apricot</th>\n      <td>Prunus armeniaca L.</td>\n      <td>1.1</td>\n      <td>0.6</td>\n    </tr>\n    <tr>\n      <th>Artichoke</th>\n      <td>Cynara scolymus L.</td>\n      <td>NaN</td>\n      <td>NaN</td>\n    </tr>\n    <tr>\n      <th>Asparagus</th>\n      <td>Asparagus officinalis L</td>\n      <td>1.2</td>\n      <td>0.6</td>\n    </tr>\n    <tr>\n      <th>Avocado</th>\n      <td>Persea americana Mill</td>\n      <td>0.5</td>\n      <td>NaN</td>\n    </tr>\n  </tbody>\n</table>\n</div>"
     },
     "execution_count": 7,
     "metadata": {},
     "output_type": "execute_result"
    }
   ],
   "source": [],
   "metadata": {
    "collapsed": false,
    "pycharm": {
     "name": "#%%\n"
    }
   }
  },
  {
   "cell_type": "code",
   "execution_count": null,
   "outputs": [],
   "source": [],
   "metadata": {
    "collapsed": false,
    "pycharm": {
     "name": "#%%\n"
    }
   }
  }
 ],
 "metadata": {
  "kernelspec": {
   "display_name": "Python 3.9.7 64-bit",
   "language": "python",
   "name": "python3"
  },
  "language_info": {
   "codemirror_mode": {
    "name": "ipython",
    "version": 3
   },
   "file_extension": ".py",
   "mimetype": "text/x-python",
   "name": "python",
   "nbconvert_exporter": "python",
   "pygments_lexer": "ipython3",
   "version": "3.9.7"
  },
  "orig_nbformat": 4,
  "vscode": {
   "interpreter": {
    "hash": "e0088aef4e9927ecbba25fa51c36f74dbbfa77ac25ef993699006cc440bab368"
   }
  }
 },
 "nbformat": 4,
 "nbformat_minor": 2
}